{
 "cells": [
  {
   "cell_type": "markdown",
   "metadata": {},
   "source": [
    "## Generación de una señal sinusoidal simple"
   ]
  },
  {
   "cell_type": "code",
   "execution_count": 1,
   "metadata": {},
   "outputs": [],
   "source": [
    "import numpy as np\n",
    "import matplotlib.pyplot as plt\n",
    "\n",
    "# Parámetros de la señal\n",
    "frecuencia = 5  # Frecuencia en Hz\n",
    "fs = 100  # Frecuencia de muestreo (samples/seg)\n",
    "t = np.linspace(0, 1, fs, endpoint=False)  # Vector de tiempo\n",
    "amplitud = 1  # Amplitud de la señal\n",
    "\n",
    "# Generar señal sinusoidal\n",
    "senal = amplitud * np.sin(2 * np.pi * frecuencia * t)\n",
    "\n",
    "# Visualización de la señal\n",
    "plt.plot(t, senal)\n",
    "plt.title('Señal sinusoidal')\n",
    "plt.xlabel('Tiempo [s]')\n",
    "plt.ylabel('Amplitud')\n",
    "plt.grid(True)\n",
    "plt.show()"
   ]
  },
  {
   "cell_type": "markdown",
   "metadata": {},
   "source": [
    "## Transformada Rápida de Fourier (FFT)"
   ]
  },
  {
   "cell_type": "code",
   "execution_count": null,
   "metadata": {},
   "outputs": [],
   "source": [
    "from scipy.fft import fft, fftfreq\n",
    "\n",
    "# Aplicar la FFT a la señal\n",
    "senal_fft = fft(senal)\n",
    "frecuencias = fftfreq(len(t), 1/fs)\n",
    "\n",
    "# Visualización de la FFT (solo la parte positiva)\n",
    "plt.plot(frecuencias[:len(frecuencias)//2], np.abs(senal_fft)[:len(frecuencias)//2])\n",
    "plt.title('Espectro de frecuencia de la señal')\n",
    "plt.xlabel('Frecuencia [Hz]')\n",
    "plt.ylabel('Amplitud')\n",
    "plt.grid(True)\n",
    "plt.show()"
   ]
  },
  {
   "cell_type": "markdown",
   "metadata": {},
   "source": [
    "## Filtrado pasa-bajas con filtro de Butterworth:"
   ]
  },
  {
   "cell_type": "code",
   "execution_count": null,
   "metadata": {},
   "outputs": [],
   "source": [
    "from scipy.signal import butter, lfilter\n",
    "\n",
    "# Parámetros del filtro Butterworth\n",
    "frecuencia_corte = 3  # Frecuencia de corte en Hz\n",
    "orden = 4  # Orden del filtro\n",
    "\n",
    "# Crear el filtro Butterworth\n",
    "b, a = butter(orden, frecuencia_corte / (0.5 * fs), btype='low')\n",
    "\n",
    "# Aplicar el filtro\n",
    "senal_filtrada = lfilter(b, a, senal)\n",
    "\n",
    "# Visualización de la señal filtrada\n",
    "plt.plot(t, senal, label='Señal original')\n",
    "plt.plot(t, senal_filtrada, label='Señal filtrada', linestyle='--')\n",
    "plt.title('Señal original vs Señal filtrada (Pasa-bajas)')\n",
    "plt.xlabel('Tiempo [s]')\n",
    "plt.ylabel('Amplitud')\n",
    "plt.legend()\n",
    "plt.grid(True)\n",
    "plt.show()\n"
   ]
  },
  {
   "cell_type": "markdown",
   "metadata": {},
   "source": [
    "## Análisis de espectrograma:"
   ]
  },
  {
   "cell_type": "code",
   "execution_count": null,
   "metadata": {},
   "outputs": [],
   "source": [
    "from scipy.signal import spectrogram\n",
    "\n",
    "# Cálculo del espectrograma\n",
    "frecuencias, tiempos, Sxx = spectrogram(senal, fs)\n",
    "\n",
    "# Visualización del espectrograma\n",
    "plt.pcolormesh(tiempos, frecuencias, 10 * np.log10(Sxx))\n",
    "plt.title('Espectrograma')\n",
    "plt.ylabel('Frecuencia [Hz]')\n",
    "plt.xlabel('Tiempo [s]')\n",
    "plt.colorbar(label='Intensidad [dB]')\n",
    "plt.show()\n"
   ]
  }
 ],
 "metadata": {
  "kernelspec": {
   "display_name": "Python 3",
   "language": "python",
   "name": "python3"
  },
  "language_info": {
   "codemirror_mode": {
    "name": "ipython",
    "version": 3
   },
   "file_extension": ".py",
   "mimetype": "text/x-python",
   "name": "python",
   "nbconvert_exporter": "python",
   "pygments_lexer": "ipython3",
   "version": "3.8.0"
  }
 },
 "nbformat": 4,
 "nbformat_minor": 2
}
